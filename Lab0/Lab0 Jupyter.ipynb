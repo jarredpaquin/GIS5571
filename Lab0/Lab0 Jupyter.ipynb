{
 "cells": [
  {
   "cell_type": "code",
   "execution_count": 1,
   "metadata": {},
   "outputs": [],
   "source": [
    "import arcpy"
   ]
  },
  {
   "cell_type": "code",
   "execution_count": 7,
   "metadata": {},
   "outputs": [],
   "source": [
    "arcpy.env.workspace = r\"C:\\Users\\jpzoo\\Desktop\\ArcOne\\GIS5571\\Lab0\\Lab0_paqui049_ArcPro\\Lab0_paqui049_ArcPro.gdb\" #Setting environment to geodatabase"
   ]
  },
  {
   "cell_type": "code",
   "execution_count": 21,
   "metadata": {},
   "outputs": [
    {
     "name": "stdout",
     "output_type": "stream",
     "text": [
      "TransitRoutes_Buffer\n",
      "Transit_Routes_FC\n",
      "TransitRoutes_Buffer_Jupyter\n"
     ]
    }
   ],
   "source": [
    "for i in arcpy.ListFeatureClasses(): #Showing feature classes in file\n",
    "    print(i)"
   ]
  },
  {
   "cell_type": "code",
   "execution_count": 15,
   "metadata": {},
   "outputs": [
    {
     "name": "stdout",
     "output_type": "stream",
     "text": [
      "Transit_Routes_FC\n"
     ]
    }
   ],
   "source": [
    "fc = arcpy.ListFeatureClasses() #Assigning list of FCs to a variable.  \n",
    "transit = fc[1] #Creating variable for the FC I want.\n",
    "print(transit) #Verifying I got the correct file"
   ]
  },
  {
   "cell_type": "code",
   "execution_count": 20,
   "metadata": {},
   "outputs": [
    {
     "data": {
      "text/html": [
       "<h2>Output</h2>C:\\Users\\jpzoo\\Desktop\\ArcOne\\GIS5571\\Lab0\\Lab0_paqui049_ArcPro\\Lab0_paqui049_ArcPro.gdb\\TransitRoutes_Buffer_Jupyter<h2>Messages</h2>Start Time: Saturday, September 11, 2021 7:28:09 PM<br/>Succeeded at Saturday, September 11, 2021 7:28:22 PM (Elapsed Time: 13.95 seconds)<br/><style>.rendered_html td, .rendered_html th {text-align: left;}.rendered_html tbody {border: 1px solid black;}</style>"
      ],
      "text/plain": [
       "<Result 'C:\\\\Users\\\\jpzoo\\\\Desktop\\\\ArcOne\\\\GIS5571\\\\Lab0\\\\Lab0_paqui049_ArcPro\\\\Lab0_paqui049_ArcPro.gdb\\\\TransitRoutes_Buffer_Jupyter'>"
      ]
     },
     "execution_count": 20,
     "metadata": {},
     "output_type": "execute_result"
    }
   ],
   "source": [
    "arcpy.analysis.Buffer(transit,\"TransitRoutes_Buffer_Jupyter\", \"0.25 Miles\") #Running the Buffer"
   ]
  },
  {
   "cell_type": "code",
   "execution_count": null,
   "metadata": {},
   "outputs": [],
   "source": []
  }
 ],
 "metadata": {
  "kernelspec": {
   "display_name": "Python 3",
   "language": "python",
   "name": "python3"
  },
  "language_info": {
   "codemirror_mode": {
    "name": "ipython",
    "version": 3
   },
   "file_extension": ".py",
   "mimetype": "text/x-python",
   "name": "python",
   "nbconvert_exporter": "python",
   "pygments_lexer": "ipython3",
   "version": "3.7.9"
  }
 },
 "nbformat": 4,
 "nbformat_minor": 4
}
