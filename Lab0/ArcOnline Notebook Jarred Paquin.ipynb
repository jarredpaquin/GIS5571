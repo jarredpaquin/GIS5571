{
 "cells": [
  {
   "cell_type": "markdown",
   "metadata": {},
   "source": [
    "## Welcome to your notebook.\n"
   ]
  },
  {
   "cell_type": "markdown",
   "metadata": {},
   "source": [
    "#### Run this cell to connect to your GIS and get started:"
   ]
  },
  {
   "cell_type": "code",
   "execution_count": 1,
   "metadata": {},
   "outputs": [
    {
     "name": "stderr",
     "output_type": "stream",
     "text": [
      "/opt/conda/lib/python3.7/site-packages/arcgis/gis/__init__.py:430: UserWarning: You are logged on as paqui049_UMN with an administrator role, proceed with caution.\n",
      "  self.users.me.username)\n"
     ]
    }
   ],
   "source": [
    "from arcgis import GIS #Importing module\n",
    "gis = GIS(\"home\")"
   ]
  },
  {
   "cell_type": "markdown",
   "metadata": {},
   "source": [
    "#### Now you are ready to start!"
   ]
  },
  {
   "cell_type": "code",
   "execution_count": 4,
   "metadata": {},
   "outputs": [
    {
     "data": {
      "text/html": [
       "<div class=\"item_container\" style=\"height: auto; overflow: hidden; border: 1px solid #cfcfcf; border-radius: 2px; background: #f6fafa; line-height: 1.21429em; padding: 10px;\">\n",
       "                    <div class=\"item_left\" style=\"width: 210px; float: left;\">\n",
       "                       <a href='https://www.arcgis.com/home/item.html?id=ec66e4bfc642480ebf68b996c56d5578' target='_blank'>\n",
       "                        <img src='data:image/png;base64,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' width='200' height='133' class=\"itemThumbnail\">\n",
       "                       </a>\n",
       "                    </div>\n",
       "\n",
       "                    <div class=\"item_right\"     style=\"float: none; width: auto; overflow: hidden;\">\n",
       "                        <a href='https://www.arcgis.com/home/item.html?id=ec66e4bfc642480ebf68b996c56d5578' target='_blank'><b>Los Angeles Transit Stops</b>\n",
       "                        </a>\n",
       "                        <br/>This layer displays transit stops in Los Angeles, California with pop-ups describing the population around each stop.<img src='https://www.arcgis.com/home/js/jsapi/esri/css/images/item_type_icons/featureshosted16.png' style=\"vertical-align:middle;\">Feature Layer Collection by JenniferBell_UO\n",
       "                        <br/>Last Modified: November 07, 2018\n",
       "                        <br/>0 comments, 44,576 views\n",
       "                    </div>\n",
       "                </div>\n",
       "                "
      ],
      "text/plain": [
       "<Item title:\"Los Angeles Transit Stops\" type:Feature Layer Collection owner:JenniferBell_UO>"
      ]
     },
     "execution_count": 4,
     "metadata": {},
     "output_type": "execute_result"
    }
   ],
   "source": [
    "# Item Added From Toolbar\n",
    "# Title: Los Angeles Transit Stops | Type: Feature Service | Owner: JenniferBell_UO\n",
    "item = gis.content.get(\"ec66e4bfc642480ebf68b996c56d5578\") #Adding layer\n",
    "item"
   ]
  },
  {
   "cell_type": "code",
   "execution_count": 5,
   "metadata": {},
   "outputs": [],
   "source": [
    "transit = item.layers[0]"
   ]
  },
  {
   "cell_type": "code",
   "execution_count": 8,
   "metadata": {},
   "outputs": [
    {
     "data": {
      "text/html": [
       "<div class=\"item_container\" style=\"height: auto; overflow: hidden; border: 1px solid #cfcfcf; border-radius: 2px; background: #f6fafa; line-height: 1.21429em; padding: 10px;\">\n",
       "                    <div class=\"item_left\" style=\"width: 210px; float: left;\">\n",
       "                       <a href='https://www.arcgis.com/home/item.html?id=f2668d3426ae4356885eb645f60ae665' target='_blank'>\n",
       "                        <img src='http://static.arcgis.com/images/desktopapp.png' class=\"itemThumbnail\">\n",
       "                       </a>\n",
       "                    </div>\n",
       "\n",
       "                    <div class=\"item_right\"     style=\"float: none; width: auto; overflow: hidden;\">\n",
       "                        <a href='https://www.arcgis.com/home/item.html?id=f2668d3426ae4356885eb645f60ae665' target='_blank'><b>create_buffers</b>\n",
       "                        </a>\n",
       "                        <br/><img src='https://www.arcgis.com/home/js/jsapi/esri/css/images/item_type_icons/featureshosted16.png' style=\"vertical-align:middle;\">Feature Layer Collection by paqui049_UMN\n",
       "                        <br/>Last Modified: September 14, 2021\n",
       "                        <br/>0 comments, 0 views\n",
       "                    </div>\n",
       "                </div>\n",
       "                "
      ],
      "text/plain": [
       "<Item title:\"create_buffers\" type:Feature Layer Collection owner:paqui049_UMN>"
      ]
     },
     "execution_count": 8,
     "metadata": {},
     "output_type": "execute_result"
    }
   ],
   "source": [
    "from arcgis import features  #Running .25 mile buffer\n",
    "buffer =features.use_proximity.create_buffers(input_layer=transit,\n",
    "                         distances=[.25],\n",
    "                         units='Miles',\n",
    "                         output_name='create_buffers')\n",
    "\n",
    "buffer          "
   ]
  },
  {
   "cell_type": "code",
   "execution_count": 9,
   "metadata": {},
   "outputs": [
    {
     "data": {
      "text/html": [
       "<div class=\"item_container\" style=\"height: auto; overflow: hidden; border: 1px solid #cfcfcf; border-radius: 2px; background: #f6fafa; line-height: 1.21429em; padding: 10px;\">\n",
       "                    <div class=\"item_left\" style=\"width: 210px; float: left;\">\n",
       "                       <a href='https://www.arcgis.com/home/item.html?id=c3c01674a6b24c6582ca6949109f111b' target='_blank'>\n",
       "                        <img src='data:image/png;base64,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' width='200' height='133' class=\"itemThumbnail\">\n",
       "                       </a>\n",
       "                    </div>\n",
       "\n",
       "                    <div class=\"item_right\"     style=\"float: none; width: auto; overflow: hidden;\">\n",
       "                        <a href='https://www.arcgis.com/home/item.html?id=c3c01674a6b24c6582ca6949109f111b' target='_blank'><b>TransitRoutesLayer</b>\n",
       "                        </a>\n",
       "                        <br/><img src='https://www.arcgis.com/home/js/jsapi/esri/css/images/item_type_icons/featureshosted16.png' style=\"vertical-align:middle;\">Feature Layer Collection by paqui049_UMN\n",
       "                        <br/>Last Modified: September 13, 2021\n",
       "                        <br/>0 comments, 6 views\n",
       "                    </div>\n",
       "                </div>\n",
       "                "
      ],
      "text/plain": [
       "<Item title:\"TransitRoutesLayer\" type:Feature Layer Collection owner:paqui049_UMN>"
      ]
     },
     "execution_count": 9,
     "metadata": {},
     "output_type": "execute_result"
    }
   ],
   "source": [
    "# Item Added From Toolbar\n",
    "# Title: TransitRoutesLayer | Type: Feature Service | Owner: paqui049_UMN\n",
    "item2 = gis.content.get(\"c3c01674a6b24c6582ca6949109f111b\")\n",
    "item2"
   ]
  },
  {
   "cell_type": "code",
   "execution_count": 10,
   "metadata": {},
   "outputs": [],
   "source": [
    "transit2 = item2.layers[0]"
   ]
  },
  {
   "cell_type": "code",
   "execution_count": 11,
   "metadata": {},
   "outputs": [
    {
     "name": "stderr",
     "output_type": "stream",
     "text": [
      "Invalid value for parameter inputLayer - Details : Failed to access URL https://arcgis.metc.state.mn.us/server/rest/services/EnterpriseLibrary/TransitRoutes/FeatureServer/0. \n",
      "Failed.\n"
     ]
    },
    {
     "ename": "Exception",
     "evalue": "Job failed.",
     "output_type": "error",
     "traceback": [
      "\u001b[0;31m---------------------------------------------------------------------------\u001b[0m",
      "\u001b[0;31mException\u001b[0m                                 Traceback (most recent call last)",
      "\u001b[0;32m<ipython-input-11-5f5c724be581>\u001b[0m in \u001b[0;36m<module>\u001b[0;34m\u001b[0m\n\u001b[1;32m      2\u001b[0m                          \u001b[0mdistances\u001b[0m\u001b[0;34m=\u001b[0m\u001b[0;34m[\u001b[0m\u001b[0;36m.25\u001b[0m\u001b[0;34m]\u001b[0m\u001b[0;34m,\u001b[0m\u001b[0;34m\u001b[0m\u001b[0;34m\u001b[0m\u001b[0m\n\u001b[1;32m      3\u001b[0m                          \u001b[0munits\u001b[0m\u001b[0;34m=\u001b[0m\u001b[0;34m'Miles'\u001b[0m\u001b[0;34m,\u001b[0m\u001b[0;34m\u001b[0m\u001b[0;34m\u001b[0m\u001b[0m\n\u001b[0;32m----> 4\u001b[0;31m                          output_name='create_buffers2')\n\u001b[0m",
      "\u001b[0;32m/opt/conda/lib/python3.7/site-packages/arcgis/features/use_proximity.py\u001b[0m in \u001b[0;36mcreate_buffers\u001b[0;34m(input_layer, distances, field, units, dissolve_type, ring_type, side_type, end_type, output_name, context, gis, estimate, future)\u001b[0m\n\u001b[1;32m    386\u001b[0m     params = inspect_function_inputs(fn=gis._tools.featureanalysis._tbx.create_buffers, \n\u001b[1;32m    387\u001b[0m                                      **kwargs)    \n\u001b[0;32m--> 388\u001b[0;31m     \u001b[0;32mreturn\u001b[0m \u001b[0mgis\u001b[0m\u001b[0;34m.\u001b[0m\u001b[0m_tools\u001b[0m\u001b[0;34m.\u001b[0m\u001b[0mfeatureanalysis\u001b[0m\u001b[0;34m.\u001b[0m\u001b[0mcreate_buffers\u001b[0m\u001b[0;34m(\u001b[0m\u001b[0;34m**\u001b[0m\u001b[0mparams\u001b[0m\u001b[0;34m)\u001b[0m\u001b[0;34m\u001b[0m\u001b[0;34m\u001b[0m\u001b[0m\n\u001b[0m\u001b[1;32m    389\u001b[0m \u001b[0;31m#--------------------------------------------------------------------------\u001b[0m\u001b[0;34m\u001b[0m\u001b[0;34m\u001b[0m\u001b[0;34m\u001b[0m\u001b[0m\n\u001b[1;32m    390\u001b[0m def create_drive_time_areas(input_layer,\n",
      "\u001b[0;32m/opt/conda/lib/python3.7/site-packages/arcgis/_impl/tools.py\u001b[0m in \u001b[0;36mcreate_buffers\u001b[0;34m(self, input_layer, distances, field, units, dissolve_type, ring_type, side_type, end_type, output_name, context, estimate, future)\u001b[0m\n\u001b[1;32m   1412\u001b[0m         \u001b[0;32mif\u001b[0m \u001b[0mfuture\u001b[0m\u001b[0;34m:\u001b[0m\u001b[0;34m\u001b[0m\u001b[0;34m\u001b[0m\u001b[0m\n\u001b[1;32m   1413\u001b[0m             \u001b[0;32mreturn\u001b[0m \u001b[0mgpjob\u001b[0m\u001b[0;34m\u001b[0m\u001b[0;34m\u001b[0m\u001b[0m\n\u001b[0;32m-> 1414\u001b[0;31m         \u001b[0mret\u001b[0m \u001b[0;34m=\u001b[0m \u001b[0mgpjob\u001b[0m\u001b[0;34m.\u001b[0m\u001b[0mresult\u001b[0m\u001b[0;34m(\u001b[0m\u001b[0;34m)\u001b[0m\u001b[0;34m\u001b[0m\u001b[0;34m\u001b[0m\u001b[0m\n\u001b[0m\u001b[1;32m   1415\u001b[0m         \u001b[0;32mif\u001b[0m \u001b[0moutput_name\u001b[0m \u001b[0;32mis\u001b[0m \u001b[0;32mnot\u001b[0m \u001b[0;32mNone\u001b[0m \u001b[0;32mand\u001b[0m\u001b[0;31m \u001b[0m\u001b[0;31m\\\u001b[0m\u001b[0;34m\u001b[0m\u001b[0;34m\u001b[0m\u001b[0m\n\u001b[1;32m   1416\u001b[0m            \u001b[0;34m'bufferLayer'\u001b[0m \u001b[0;32min\u001b[0m \u001b[0mret\u001b[0m\u001b[0;34m:\u001b[0m\u001b[0;34m\u001b[0m\u001b[0;34m\u001b[0m\u001b[0m\n",
      "\u001b[0;32m/opt/conda/lib/python3.7/site-packages/arcgis/geoprocessing/_job.py\u001b[0m in \u001b[0;36mresult\u001b[0;34m(self)\u001b[0m\n\u001b[1;32m    202\u001b[0m             \u001b[0;32mreturn\u001b[0m \u001b[0;32mNone\u001b[0m\u001b[0;34m\u001b[0m\u001b[0;34m\u001b[0m\u001b[0m\n\u001b[1;32m    203\u001b[0m         \u001b[0;32mif\u001b[0m \u001b[0mself\u001b[0m\u001b[0;34m.\u001b[0m\u001b[0m_is_fa\u001b[0m\u001b[0;34m:\u001b[0m\u001b[0;34m\u001b[0m\u001b[0;34m\u001b[0m\u001b[0m\n\u001b[0;32m--> 204\u001b[0;31m             \u001b[0;32mreturn\u001b[0m \u001b[0mself\u001b[0m\u001b[0;34m.\u001b[0m\u001b[0m_process_fa\u001b[0m\u001b[0;34m(\u001b[0m\u001b[0mself\u001b[0m\u001b[0;34m.\u001b[0m\u001b[0m_future\u001b[0m\u001b[0;34m.\u001b[0m\u001b[0mresult\u001b[0m\u001b[0;34m(\u001b[0m\u001b[0;34m)\u001b[0m\u001b[0;34m)\u001b[0m\u001b[0;34m\u001b[0m\u001b[0;34m\u001b[0m\u001b[0m\n\u001b[0m\u001b[1;32m    205\u001b[0m         \u001b[0;32melif\u001b[0m \u001b[0mself\u001b[0m\u001b[0;34m.\u001b[0m\u001b[0m_is_ra\u001b[0m\u001b[0;34m:\u001b[0m\u001b[0;34m\u001b[0m\u001b[0;34m\u001b[0m\u001b[0m\n\u001b[1;32m    206\u001b[0m             \u001b[0;32mreturn\u001b[0m \u001b[0mself\u001b[0m\u001b[0;34m.\u001b[0m\u001b[0m_process_ra\u001b[0m\u001b[0;34m(\u001b[0m\u001b[0mself\u001b[0m\u001b[0;34m.\u001b[0m\u001b[0m_future\u001b[0m\u001b[0;34m.\u001b[0m\u001b[0mresult\u001b[0m\u001b[0;34m(\u001b[0m\u001b[0;34m)\u001b[0m\u001b[0;34m)\u001b[0m\u001b[0;34m\u001b[0m\u001b[0;34m\u001b[0m\u001b[0m\n",
      "\u001b[0;32m/opt/conda/lib/python3.7/concurrent/futures/_base.py\u001b[0m in \u001b[0;36mresult\u001b[0;34m(self, timeout)\u001b[0m\n\u001b[1;32m    433\u001b[0m                 \u001b[0;32mraise\u001b[0m \u001b[0mCancelledError\u001b[0m\u001b[0;34m(\u001b[0m\u001b[0;34m)\u001b[0m\u001b[0;34m\u001b[0m\u001b[0;34m\u001b[0m\u001b[0m\n\u001b[1;32m    434\u001b[0m             \u001b[0;32melif\u001b[0m \u001b[0mself\u001b[0m\u001b[0;34m.\u001b[0m\u001b[0m_state\u001b[0m \u001b[0;34m==\u001b[0m \u001b[0mFINISHED\u001b[0m\u001b[0;34m:\u001b[0m\u001b[0;34m\u001b[0m\u001b[0;34m\u001b[0m\u001b[0m\n\u001b[0;32m--> 435\u001b[0;31m                 \u001b[0;32mreturn\u001b[0m \u001b[0mself\u001b[0m\u001b[0;34m.\u001b[0m\u001b[0m__get_result\u001b[0m\u001b[0;34m(\u001b[0m\u001b[0;34m)\u001b[0m\u001b[0;34m\u001b[0m\u001b[0;34m\u001b[0m\u001b[0m\n\u001b[0m\u001b[1;32m    436\u001b[0m             \u001b[0;32melse\u001b[0m\u001b[0;34m:\u001b[0m\u001b[0;34m\u001b[0m\u001b[0;34m\u001b[0m\u001b[0m\n\u001b[1;32m    437\u001b[0m                 \u001b[0;32mraise\u001b[0m \u001b[0mTimeoutError\u001b[0m\u001b[0;34m(\u001b[0m\u001b[0;34m)\u001b[0m\u001b[0;34m\u001b[0m\u001b[0;34m\u001b[0m\u001b[0m\n",
      "\u001b[0;32m/opt/conda/lib/python3.7/concurrent/futures/_base.py\u001b[0m in \u001b[0;36m__get_result\u001b[0;34m(self)\u001b[0m\n\u001b[1;32m    382\u001b[0m     \u001b[0;32mdef\u001b[0m \u001b[0m__get_result\u001b[0m\u001b[0;34m(\u001b[0m\u001b[0mself\u001b[0m\u001b[0;34m)\u001b[0m\u001b[0;34m:\u001b[0m\u001b[0;34m\u001b[0m\u001b[0;34m\u001b[0m\u001b[0m\n\u001b[1;32m    383\u001b[0m         \u001b[0;32mif\u001b[0m \u001b[0mself\u001b[0m\u001b[0;34m.\u001b[0m\u001b[0m_exception\u001b[0m\u001b[0;34m:\u001b[0m\u001b[0;34m\u001b[0m\u001b[0;34m\u001b[0m\u001b[0m\n\u001b[0;32m--> 384\u001b[0;31m             \u001b[0;32mraise\u001b[0m \u001b[0mself\u001b[0m\u001b[0;34m.\u001b[0m\u001b[0m_exception\u001b[0m\u001b[0;34m\u001b[0m\u001b[0;34m\u001b[0m\u001b[0m\n\u001b[0m\u001b[1;32m    385\u001b[0m         \u001b[0;32melse\u001b[0m\u001b[0;34m:\u001b[0m\u001b[0;34m\u001b[0m\u001b[0;34m\u001b[0m\u001b[0m\n\u001b[1;32m    386\u001b[0m             \u001b[0;32mreturn\u001b[0m \u001b[0mself\u001b[0m\u001b[0;34m.\u001b[0m\u001b[0m_result\u001b[0m\u001b[0;34m\u001b[0m\u001b[0;34m\u001b[0m\u001b[0m\n",
      "\u001b[0;32m/opt/conda/lib/python3.7/concurrent/futures/thread.py\u001b[0m in \u001b[0;36mrun\u001b[0;34m(self)\u001b[0m\n\u001b[1;32m     55\u001b[0m \u001b[0;34m\u001b[0m\u001b[0m\n\u001b[1;32m     56\u001b[0m         \u001b[0;32mtry\u001b[0m\u001b[0;34m:\u001b[0m\u001b[0;34m\u001b[0m\u001b[0;34m\u001b[0m\u001b[0m\n\u001b[0;32m---> 57\u001b[0;31m             \u001b[0mresult\u001b[0m \u001b[0;34m=\u001b[0m \u001b[0mself\u001b[0m\u001b[0;34m.\u001b[0m\u001b[0mfn\u001b[0m\u001b[0;34m(\u001b[0m\u001b[0;34m*\u001b[0m\u001b[0mself\u001b[0m\u001b[0;34m.\u001b[0m\u001b[0margs\u001b[0m\u001b[0;34m,\u001b[0m \u001b[0;34m**\u001b[0m\u001b[0mself\u001b[0m\u001b[0;34m.\u001b[0m\u001b[0mkwargs\u001b[0m\u001b[0;34m)\u001b[0m\u001b[0;34m\u001b[0m\u001b[0;34m\u001b[0m\u001b[0m\n\u001b[0m\u001b[1;32m     58\u001b[0m         \u001b[0;32mexcept\u001b[0m \u001b[0mBaseException\u001b[0m \u001b[0;32mas\u001b[0m \u001b[0mexc\u001b[0m\u001b[0;34m:\u001b[0m\u001b[0;34m\u001b[0m\u001b[0;34m\u001b[0m\u001b[0m\n\u001b[1;32m     59\u001b[0m             \u001b[0mself\u001b[0m\u001b[0;34m.\u001b[0m\u001b[0mfuture\u001b[0m\u001b[0;34m.\u001b[0m\u001b[0mset_exception\u001b[0m\u001b[0;34m(\u001b[0m\u001b[0mexc\u001b[0m\u001b[0;34m)\u001b[0m\u001b[0;34m\u001b[0m\u001b[0;34m\u001b[0m\u001b[0m\n",
      "\u001b[0;32m/opt/conda/lib/python3.7/site-packages/arcgis/geoprocessing/_support.py\u001b[0m in \u001b[0;36m_future_op\u001b[0;34m(gptool, task_url, job_info, job_id, param_db, return_values, return_messages)\u001b[0m\n\u001b[1;32m    285\u001b[0m \u001b[0;32mdef\u001b[0m \u001b[0m_future_op\u001b[0m\u001b[0;34m(\u001b[0m\u001b[0mgptool\u001b[0m\u001b[0;34m,\u001b[0m \u001b[0mtask_url\u001b[0m\u001b[0;34m,\u001b[0m \u001b[0mjob_info\u001b[0m\u001b[0;34m,\u001b[0m \u001b[0mjob_id\u001b[0m\u001b[0;34m,\u001b[0m \u001b[0mparam_db\u001b[0m\u001b[0;34m,\u001b[0m \u001b[0mreturn_values\u001b[0m\u001b[0;34m,\u001b[0m \u001b[0mreturn_messages\u001b[0m\u001b[0;34m)\u001b[0m\u001b[0;34m:\u001b[0m\u001b[0;34m\u001b[0m\u001b[0;34m\u001b[0m\u001b[0m\n\u001b[1;32m    286\u001b[0m \u001b[0;34m\u001b[0m\u001b[0m\n\u001b[0;32m--> 287\u001b[0;31m     \u001b[0mjob_info\u001b[0m \u001b[0;34m=\u001b[0m \u001b[0m_analysis_job_status\u001b[0m\u001b[0;34m(\u001b[0m\u001b[0mgptool\u001b[0m\u001b[0;34m,\u001b[0m \u001b[0mtask_url\u001b[0m\u001b[0;34m,\u001b[0m \u001b[0mjob_info\u001b[0m\u001b[0;34m)\u001b[0m\u001b[0;34m\u001b[0m\u001b[0;34m\u001b[0m\u001b[0m\n\u001b[0m\u001b[1;32m    288\u001b[0m     \u001b[0mresp\u001b[0m \u001b[0;34m=\u001b[0m \u001b[0m_analysis_job_results\u001b[0m\u001b[0;34m(\u001b[0m\u001b[0mgptool\u001b[0m\u001b[0;34m,\u001b[0m \u001b[0mtask_url\u001b[0m\u001b[0;34m,\u001b[0m \u001b[0mjob_info\u001b[0m\u001b[0;34m,\u001b[0m \u001b[0mjob_id\u001b[0m\u001b[0;34m)\u001b[0m\u001b[0;34m\u001b[0m\u001b[0;34m\u001b[0m\u001b[0m\n\u001b[1;32m    289\u001b[0m \u001b[0;34m\u001b[0m\u001b[0m\n",
      "\u001b[0;32m/opt/conda/lib/python3.7/site-packages/arcgis/geoprocessing/_support.py\u001b[0m in \u001b[0;36m_analysis_job_status\u001b[0;34m(gptool, task_url, job_info)\u001b[0m\n\u001b[1;32m    231\u001b[0m \u001b[0;34m\u001b[0m\u001b[0m\n\u001b[1;32m    232\u001b[0m                     \u001b[0;32mif\u001b[0m \u001b[0mjob_response\u001b[0m\u001b[0;34m.\u001b[0m\u001b[0mget\u001b[0m\u001b[0;34m(\u001b[0m\u001b[0;34m\"jobStatus\"\u001b[0m\u001b[0;34m)\u001b[0m \u001b[0;34m==\u001b[0m \u001b[0;34m\"esriJobFailed\"\u001b[0m\u001b[0;34m:\u001b[0m\u001b[0;34m\u001b[0m\u001b[0;34m\u001b[0m\u001b[0m\n\u001b[0;32m--> 233\u001b[0;31m                         \u001b[0;32mraise\u001b[0m \u001b[0mException\u001b[0m\u001b[0;34m(\u001b[0m\u001b[0;34m\"Job failed.\"\u001b[0m\u001b[0;34m)\u001b[0m\u001b[0;34m\u001b[0m\u001b[0;34m\u001b[0m\u001b[0m\n\u001b[0m\u001b[1;32m    234\u001b[0m                     \u001b[0;32melif\u001b[0m \u001b[0mjob_response\u001b[0m\u001b[0;34m.\u001b[0m\u001b[0mget\u001b[0m\u001b[0;34m(\u001b[0m\u001b[0;34m\"jobStatus\"\u001b[0m\u001b[0;34m)\u001b[0m \u001b[0;34m==\u001b[0m \u001b[0;34m\"esriJobCancelled\"\u001b[0m\u001b[0;34m:\u001b[0m\u001b[0;34m\u001b[0m\u001b[0;34m\u001b[0m\u001b[0m\n\u001b[1;32m    235\u001b[0m                         \u001b[0;32mraise\u001b[0m \u001b[0mException\u001b[0m\u001b[0;34m(\u001b[0m\u001b[0;34m\"Job cancelled.\"\u001b[0m\u001b[0;34m)\u001b[0m\u001b[0;34m\u001b[0m\u001b[0;34m\u001b[0m\u001b[0m\n",
      "\u001b[0;31mException\u001b[0m: Job failed."
     ]
    }
   ],
   "source": [
    "buffer2 =features.use_proximity.create_buffers(input_layer=transit2,  #This code doesn't work because of the access issue, but here is what I came up with\n",
    "                         distances=[.25],\n",
    "                         units='Miles',\n",
    "                         output_name='create_buffers2')\n",
    "buffer2"
   ]
  },
  {
   "cell_type": "code",
   "execution_count": null,
   "metadata": {},
   "outputs": [],
   "source": []
  }
 ],
 "metadata": {
  "esriNotebookRuntime": {
   "notebookRuntimeName": "ArcGIS Notebook Python 3 Standard",
   "notebookRuntimeVersion": "5.0"
  },
  "kernelspec": {
   "display_name": "Python 3",
   "language": "python",
   "name": "python3"
  },
  "language_info": {
   "codemirror_mode": {
    "name": "ipython",
    "version": 3
   },
   "file_extension": ".py",
   "mimetype": "text/x-python",
   "name": "python",
   "nbconvert_exporter": "python",
   "pygments_lexer": "ipython3",
   "version": "3.7.9"
  }
 },
 "nbformat": 4,
 "nbformat_minor": 2
}
